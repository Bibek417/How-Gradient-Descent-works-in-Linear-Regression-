{
 "cells": [
  {
   "cell_type": "code",
   "execution_count": 1,
   "id": "0366cf78",
   "metadata": {},
   "outputs": [],
   "source": [
    "# import libraries \n",
    "import numpy as np \n",
    "import pandas as pd \n",
    "\n",
    "import matplotlib.pyplot as plt \n",
    "import seaborn as sns \n",
    "\n",
    "import warnings \n",
    "warnings.filterwarnings('ignore') \n"
   ]
  },
  {
   "cell_type": "markdown",
   "id": "92e093ee",
   "metadata": {},
   "source": [
    "## Gradient Discent (in general)"
   ]
  },
  {
   "cell_type": "markdown",
   "id": "ae023e8d",
   "metadata": {},
   "source": [
    "It is an optimization algorithm to find the minimum of a function. We start with a random point on the function and move in the negative direction of the gradient of the function to reach the local/global minima."
   ]
  },
  {
   "cell_type": "markdown",
   "id": "607f3339",
   "metadata": {},
   "source": [
    "#### Lets say the function is y=(x-5)² "
   ]
  },
  {
   "cell_type": "code",
   "execution_count": 2,
   "id": "c7c6c0fa",
   "metadata": {},
   "outputs": [
    {
     "name": "stdout",
     "output_type": "stream",
     "text": [
      "[-5 -4 -3 -2 -1  0  1  2  3  4  5  6  7  8  9 10 11 12 13 14 15 16 17 18\n",
      " 19]\n",
      "[100  81  64  49  36  25  16   9   4   1   0   1   4   9  16  25  36  49\n",
      "  64  81 100 121 144 169 196]\n"
     ]
    }
   ],
   "source": [
    "X = np.arange(-5,20) \n",
    "y = (X-5)**2 \n",
    "print(X) \n",
    "print(y)"
   ]
  },
  {
   "cell_type": "code",
   "execution_count": 3,
   "id": "12132762",
   "metadata": {},
   "outputs": [
    {
     "data": {
      "image/png": "[encoded data removed]",
      "text/plain": [
       "<Figure size 432x288 with 1 Axes>"
      ]
     },
     "metadata": {
      "needs_background": "light"
     },
     "output_type": "display_data"
    }
   ],
   "source": [
    "# lets visualize the function \n",
    "plt.plot(X,y) \n",
    "plt.ylabel('f(x)=(x+5)²') \n",
    "plt.xlabel('X')\n",
    "plt.show()"
   ]
  },
  {
   "cell_type": "markdown",
   "id": "95034f89",
   "metadata": {},
   "source": [
    "## Gradient discent formula"
   ]
  },
  {
   "cell_type": "markdown",
   "id": "451f8f78",
   "metadata": {},
   "source": [
    "\n",
    "## $$ \\theta^{t} = \\theta^{t-1}-\\eta\\frac{\\partial J}{\\partial \\theta^{t-1}} $$ \n",
    "\n",
    "where\n",
    "\n",
    "$ \\theta^{t} $  -> next step or next point\n",
    "\n",
    "$ \\theta^{t-1} $  -> previous step or previous point\n",
    "\n",
    "$ \\eta $  -> Learning rate\n",
    "\n",
    "J -> function which we have to minimise \n",
    "\n",
    "$ \\frac{\\partial J}{\\partial \\theta^{t-1}} $ -> partial derivative of that function or called Gradient "
   ]
  },
  {
   "cell_type": "code",
   "execution_count": 4,
   "id": "df059d5d",
   "metadata": {},
   "outputs": [
    {
     "name": "stdout",
     "output_type": "stream",
     "text": [
      "5.000000002037036\n"
     ]
    }
   ],
   "source": [
    "# lets find the minimum of that function y = (X-5)**2 \n",
    "# lets start from x = 15 \n",
    "\n",
    "X = 15 # starting point \n",
    "lr = 0.1 # learning rate\n",
    " \n",
    "for i in range(100): # lets take 100 iteration \n",
    "    grad = 2*(X-5) # darivative of that function or gradient \n",
    "    X=X-lr*grad # applying formula \n",
    "print(X)\n",
    "    "
   ]
  },
  {
   "cell_type": "markdown",
   "id": "795c38b2",
   "metadata": {},
   "source": [
    "### conclusion \n",
    "* So approximately 5 is our global minima for the function y = (X-5)**2 . \n",
    "* That means at the value of X = 5 our function in minimum ."
   ]
  },
  {
   "cell_type": "code",
   "execution_count": 5,
   "id": "37ea160f",
   "metadata": {},
   "outputs": [
    {
     "name": "stdout",
     "output_type": "stream",
     "text": [
      "5.000000002037036\n"
     ]
    },
    {
     "data": {
      "image/png": "[encoded data removed]",
      "text/plain": [
       "<Figure size 432x288 with 1 Axes>"
      ]
     },
     "metadata": {
      "needs_background": "light"
     },
     "output_type": "display_data"
    }
   ],
   "source": [
    "# let's visualize how we iteratively converge to the local minima. \n",
    "X = 15 \n",
    "lr = 0.1 \n",
    " \n",
    "for i in range(100): \n",
    "    grad = 2*(X-5)\n",
    "    X=X-lr*grad \n",
    "    y = (X-5)**2 \n",
    "    plt.scatter(X,y)\n",
    "print(X)"
   ]
  },
  {
   "cell_type": "markdown",
   "id": "af2c1c88",
   "metadata": {},
   "source": [
    "## Gradient Discent in Linear Regression "
   ]
  },
  {
   "cell_type": "code",
   "execution_count": 6,
   "id": "a3dcdabd",
   "metadata": {},
   "outputs": [
    {
     "data": {
      "text/html": [
       "<div>\n",
       "<style scoped>\n",
       "    .dataframe tbody tr th:only-of-type {\n",
       "        vertical-align: middle;\n",
       "    }\n",
       "\n",
       "    .dataframe tbody tr th {\n",
       "        vertical-align: top;\n",
       "    }\n",
       "\n",
       "    .dataframe thead th {\n",
       "        text-align: right;\n",
       "    }\n",
       "</style>\n",
       "<table border=\"1\" class=\"dataframe\">\n",
       "  <thead>\n",
       "    <tr style=\"text-align: right;\">\n",
       "      <th></th>\n",
       "      <th>price</th>\n",
       "      <th>area</th>\n",
       "      <th>bedrooms</th>\n",
       "      <th>bathrooms</th>\n",
       "      <th>stories</th>\n",
       "      <th>mainroad</th>\n",
       "      <th>guestroom</th>\n",
       "      <th>basement</th>\n",
       "      <th>hotwaterheating</th>\n",
       "      <th>airconditioning</th>\n",
       "      <th>parking</th>\n",
       "      <th>prefarea</th>\n",
       "      <th>furnishingstatus</th>\n",
       "    </tr>\n",
       "  </thead>\n",
       "  <tbody>\n",
       "    <tr>\n",
       "      <th>0</th>\n",
       "      <td>13300000</td>\n",
       "      <td>7420</td>\n",
       "      <td>4</td>\n",
       "      <td>2</td>\n",
       "      <td>3</td>\n",
       "      <td>1</td>\n",
       "      <td>0</td>\n",
       "      <td>0</td>\n",
       "      <td>0</td>\n",
       "      <td>1</td>\n",
       "      <td>2</td>\n",
       "      <td>1</td>\n",
       "      <td>furnished</td>\n",
       "    </tr>\n",
       "    <tr>\n",
       "      <th>1</th>\n",
       "      <td>12250000</td>\n",
       "      <td>8960</td>\n",
       "      <td>4</td>\n",
       "      <td>4</td>\n",
       "      <td>4</td>\n",
       "      <td>1</td>\n",
       "      <td>0</td>\n",
       "      <td>0</td>\n",
       "      <td>0</td>\n",
       "      <td>1</td>\n",
       "      <td>3</td>\n",
       "      <td>0</td>\n",
       "      <td>furnished</td>\n",
       "    </tr>\n",
       "    <tr>\n",
       "      <th>2</th>\n",
       "      <td>12250000</td>\n",
       "      <td>9960</td>\n",
       "      <td>3</td>\n",
       "      <td>2</td>\n",
       "      <td>2</td>\n",
       "      <td>1</td>\n",
       "      <td>0</td>\n",
       "      <td>1</td>\n",
       "      <td>0</td>\n",
       "      <td>0</td>\n",
       "      <td>2</td>\n",
       "      <td>1</td>\n",
       "      <td>semi-furnished</td>\n",
       "    </tr>\n",
       "    <tr>\n",
       "      <th>3</th>\n",
       "      <td>12215000</td>\n",
       "      <td>7500</td>\n",
       "      <td>4</td>\n",
       "      <td>2</td>\n",
       "      <td>2</td>\n",
       "      <td>1</td>\n",
       "      <td>0</td>\n",
       "      <td>1</td>\n",
       "      <td>0</td>\n",
       "      <td>1</td>\n",
       "      <td>3</td>\n",
       "      <td>1</td>\n",
       "      <td>furnished</td>\n",
       "    </tr>\n",
       "    <tr>\n",
       "      <th>4</th>\n",
       "      <td>11410000</td>\n",
       "      <td>7420</td>\n",
       "      <td>4</td>\n",
       "      <td>1</td>\n",
       "      <td>2</td>\n",
       "      <td>1</td>\n",
       "      <td>1</td>\n",
       "      <td>1</td>\n",
       "      <td>0</td>\n",
       "      <td>1</td>\n",
       "      <td>2</td>\n",
       "      <td>0</td>\n",
       "      <td>furnished</td>\n",
       "    </tr>\n",
       "  </tbody>\n",
       "</table>\n",
       "</div>"
      ],
      "text/plain": [
       "      price  area  bedrooms  bathrooms  stories  mainroad  guestroom  \\\n",
       "0  13300000  7420         4          2        3         1          0   \n",
       "1  12250000  8960         4          4        4         1          0   \n",
       "2  12250000  9960         3          2        2         1          0   \n",
       "3  12215000  7500         4          2        2         1          0   \n",
       "4  11410000  7420         4          1        2         1          1   \n",
       "\n",
       "   basement  hotwaterheating  airconditioning  parking  prefarea  \\\n",
       "0         0                0                1        2         1   \n",
       "1         0                0                1        3         0   \n",
       "2         1                0                0        2         1   \n",
       "3         1                0                1        3         1   \n",
       "4         1                0                1        2         0   \n",
       "\n",
       "  furnishingstatus  \n",
       "0        furnished  \n",
       "1        furnished  \n",
       "2   semi-furnished  \n",
       "3        furnished  \n",
       "4        furnished  "
      ]
     },
     "execution_count": 6,
     "metadata": {},
     "output_type": "execute_result"
    }
   ],
   "source": [
    "# lets take a dataset called housing.csv \n",
    "housing = pd.read_csv(r'E:\\linkdin post project\\Gradient Discent\\housing.csv')\n",
    "housing.head()"
   ]
  },
  {
   "cell_type": "code",
   "execution_count": 7,
   "id": "61a59d63",
   "metadata": {},
   "outputs": [],
   "source": [
    "#Converting furnishingstatus column to binary column using get_dummies\n",
    "status = pd.get_dummies(housing['furnishingstatus'],drop_first=True)\n",
    "housing = pd.concat([housing,status],axis=1)\n",
    "housing.drop(['furnishingstatus'],axis=1,inplace=True)"
   ]
  },
  {
   "cell_type": "code",
   "execution_count": 8,
   "id": "0c381118",
   "metadata": {
    "scrolled": true
   },
   "outputs": [
    {
     "data": {
      "text/html": [
       "<div>\n",
       "<style scoped>\n",
       "    .dataframe tbody tr th:only-of-type {\n",
       "        vertical-align: middle;\n",
       "    }\n",
       "\n",
       "    .dataframe tbody tr th {\n",
       "        vertical-align: top;\n",
       "    }\n",
       "\n",
       "    .dataframe thead th {\n",
       "        text-align: right;\n",
       "    }\n",
       "</style>\n",
       "<table border=\"1\" class=\"dataframe\">\n",
       "  <thead>\n",
       "    <tr style=\"text-align: right;\">\n",
       "      <th></th>\n",
       "      <th>price</th>\n",
       "      <th>area</th>\n",
       "      <th>bedrooms</th>\n",
       "      <th>bathrooms</th>\n",
       "      <th>stories</th>\n",
       "      <th>mainroad</th>\n",
       "      <th>guestroom</th>\n",
       "      <th>basement</th>\n",
       "      <th>hotwaterheating</th>\n",
       "      <th>airconditioning</th>\n",
       "      <th>parking</th>\n",
       "      <th>prefarea</th>\n",
       "      <th>semi-furnished</th>\n",
       "      <th>unfurnished</th>\n",
       "    </tr>\n",
       "  </thead>\n",
       "  <tbody>\n",
       "    <tr>\n",
       "      <th>0</th>\n",
       "      <td>4.562174</td>\n",
       "      <td>1.045766</td>\n",
       "      <td>1.402131</td>\n",
       "      <td>1.420507</td>\n",
       "      <td>1.376952</td>\n",
       "      <td>0.405251</td>\n",
       "      <td>-0.464888</td>\n",
       "      <td>-0.733865</td>\n",
       "      <td>-0.219063</td>\n",
       "      <td>1.471267</td>\n",
       "      <td>1.516299</td>\n",
       "      <td>1.803284</td>\n",
       "      <td>-0.844113</td>\n",
       "      <td>-0.69579</td>\n",
       "    </tr>\n",
       "    <tr>\n",
       "      <th>1</th>\n",
       "      <td>4.000809</td>\n",
       "      <td>1.755397</td>\n",
       "      <td>1.402131</td>\n",
       "      <td>5.400847</td>\n",
       "      <td>2.529700</td>\n",
       "      <td>0.405251</td>\n",
       "      <td>-0.464888</td>\n",
       "      <td>-0.733865</td>\n",
       "      <td>-0.219063</td>\n",
       "      <td>1.471267</td>\n",
       "      <td>2.676950</td>\n",
       "      <td>-0.553526</td>\n",
       "      <td>-0.844113</td>\n",
       "      <td>-0.69579</td>\n",
       "    </tr>\n",
       "    <tr>\n",
       "      <th>2</th>\n",
       "      <td>4.000809</td>\n",
       "      <td>2.216196</td>\n",
       "      <td>0.047235</td>\n",
       "      <td>1.420507</td>\n",
       "      <td>0.224204</td>\n",
       "      <td>0.405251</td>\n",
       "      <td>-0.464888</td>\n",
       "      <td>1.360148</td>\n",
       "      <td>-0.219063</td>\n",
       "      <td>-0.678439</td>\n",
       "      <td>1.516299</td>\n",
       "      <td>1.803284</td>\n",
       "      <td>1.182502</td>\n",
       "      <td>-0.69579</td>\n",
       "    </tr>\n",
       "    <tr>\n",
       "      <th>3</th>\n",
       "      <td>3.982096</td>\n",
       "      <td>1.082630</td>\n",
       "      <td>1.402131</td>\n",
       "      <td>1.420507</td>\n",
       "      <td>0.224204</td>\n",
       "      <td>0.405251</td>\n",
       "      <td>-0.464888</td>\n",
       "      <td>1.360148</td>\n",
       "      <td>-0.219063</td>\n",
       "      <td>1.471267</td>\n",
       "      <td>2.676950</td>\n",
       "      <td>1.803284</td>\n",
       "      <td>-0.844113</td>\n",
       "      <td>-0.69579</td>\n",
       "    </tr>\n",
       "    <tr>\n",
       "      <th>4</th>\n",
       "      <td>3.551716</td>\n",
       "      <td>1.045766</td>\n",
       "      <td>1.402131</td>\n",
       "      <td>-0.569663</td>\n",
       "      <td>0.224204</td>\n",
       "      <td>0.405251</td>\n",
       "      <td>2.147110</td>\n",
       "      <td>1.360148</td>\n",
       "      <td>-0.219063</td>\n",
       "      <td>1.471267</td>\n",
       "      <td>1.516299</td>\n",
       "      <td>-0.553526</td>\n",
       "      <td>-0.844113</td>\n",
       "      <td>-0.69579</td>\n",
       "    </tr>\n",
       "  </tbody>\n",
       "</table>\n",
       "</div>"
      ],
      "text/plain": [
       "      price      area  bedrooms  bathrooms   stories  mainroad  guestroom  \\\n",
       "0  4.562174  1.045766  1.402131   1.420507  1.376952  0.405251  -0.464888   \n",
       "1  4.000809  1.755397  1.402131   5.400847  2.529700  0.405251  -0.464888   \n",
       "2  4.000809  2.216196  0.047235   1.420507  0.224204  0.405251  -0.464888   \n",
       "3  3.982096  1.082630  1.402131   1.420507  0.224204  0.405251  -0.464888   \n",
       "4  3.551716  1.045766  1.402131  -0.569663  0.224204  0.405251   2.147110   \n",
       "\n",
       "   basement  hotwaterheating  airconditioning   parking  prefarea  \\\n",
       "0 -0.733865        -0.219063         1.471267  1.516299  1.803284   \n",
       "1 -0.733865        -0.219063         1.471267  2.676950 -0.553526   \n",
       "2  1.360148        -0.219063        -0.678439  1.516299  1.803284   \n",
       "3  1.360148        -0.219063         1.471267  2.676950  1.803284   \n",
       "4  1.360148        -0.219063         1.471267  1.516299 -0.553526   \n",
       "\n",
       "   semi-furnished  unfurnished  \n",
       "0       -0.844113     -0.69579  \n",
       "1       -0.844113     -0.69579  \n",
       "2        1.182502     -0.69579  \n",
       "3       -0.844113     -0.69579  \n",
       "4       -0.844113     -0.69579  "
      ]
     },
     "execution_count": 8,
     "metadata": {},
     "output_type": "execute_result"
    }
   ],
   "source": [
    "# Normalisisng the data\n",
    "housing = (housing - housing.mean())/housing.std()\n",
    "housing.head() "
   ]
  },
  {
   "cell_type": "markdown",
   "id": "7f95f63d",
   "metadata": {},
   "source": [
    "## Simple Linear Regression "
   ]
  },
  {
   "cell_type": "code",
   "execution_count": 9,
   "id": "3083c45e",
   "metadata": {},
   "outputs": [],
   "source": [
    "# lets say we want to predict the house price using the area attributes \n",
    "# Assign feature variable or independent variable X\n",
    "X = housing['area']\n",
    "\n",
    "# Assign response variable or dependent variable to y \n",
    "y = housing['price']"
   ]
  },
  {
   "cell_type": "code",
   "execution_count": 10,
   "id": "9f4dafdf",
   "metadata": {},
   "outputs": [
    {
     "data": {
      "image/png": "[encoded data removed]",
      "text/plain": [
       "<Figure size 432x288 with 1 Axes>"
      ]
     },
     "metadata": {
      "needs_background": "light"
     },
     "output_type": "display_data"
    }
   ],
   "source": [
    "# lets visualize relationship between the features and the response using scatterplots\n",
    "sns.scatterplot(X,y) \n",
    "plt.show()"
   ]
  },
  {
   "cell_type": "markdown",
   "id": "5c97e447",
   "metadata": {},
   "source": [
    "## For linear regression we use a cost function known as the mean squared error or MSE."
   ]
  },
  {
   "cell_type": "markdown",
   "id": "25085b65",
   "metadata": {},
   "source": [
    "### Formula "
   ]
  },
  {
   "cell_type": "markdown",
   "id": "c5d2830d",
   "metadata": {},
   "source": [
    "### $$MSE = \\frac{1}{n} \\sum_{i=1}^{n} \\big( y^{(i)} -\\hat{y} \\big)^2 $$ \n",
    "### $$MSE = \\frac{1}{n} \\sum_{i=1}^{n} \\big( y^{(i)} - h_\\theta x^{(i)} \\big)^2 $$ \n",
    "### $$MSE = \\frac{1}{n} \\sum_{i=1}^{n} \\big( y^{(i)} - \\big( mx^{(i)}+c \\big)\\big)^2 $$ \n",
    "where \n",
    "\n",
    "n = number of items \n",
    "\n",
    "$ y^{(i)} $ = actual point \n",
    "\n",
    "$ \\hat{y} $ = $ h_\\theta x^{(i)} $ = $ mx^{(i)}+c $ = predicted point \n",
    "\n",
    "m = slope \n",
    "\n",
    "c = intercept"
   ]
  },
  {
   "cell_type": "markdown",
   "id": "5b404e93",
   "metadata": {},
   "source": [
    "## So our goal is to find the best m and c value where our MSE should be minimum ."
   ]
  },
  {
   "cell_type": "markdown",
   "id": "d0849e85",
   "metadata": {},
   "source": [
    "## As per Gradient Discent Formula we have to differentiate our cost function first and then put that in to the formula .\n"
   ]
  },
  {
   "cell_type": "markdown",
   "id": "55d26f12",
   "metadata": {},
   "source": [
    "# Partial Darivation of MSE w.r.t slope(m) and intercept(c) \n",
    "## $$\\frac{\\partial MSE}{\\partial m} = - \\frac{2}{n} \\sum_{i=1}^n \\big( y^{(i)} - mx^{(i)} - c \\big)\\big( x^{(i)} \\big) $$ \n",
    "## $$\\frac{\\partial MSE}{\\partial c} = - \\frac{2}{n} \\sum_{i=1}^n \\big( y^{(i)} - mx^{(i)} - c \\big) $$"
   ]
  },
  {
   "cell_type": "code",
   "execution_count": 11,
   "id": "ddc2d674",
   "metadata": {},
   "outputs": [],
   "source": [
    "# now for applying gradient discent we need our X,y variables as numpy array \n",
    "X = np.array(X) \n",
    "y = np.array(y) "
   ]
  },
  {
   "cell_type": "code",
   "execution_count": 12,
   "id": "1238acec",
   "metadata": {},
   "outputs": [],
   "source": [
    "# lets implement the gradient descent function \n",
    "# lets initialised current m and c to 0 \n",
    "\n",
    "def gradient_discent_simple(X,y):\n",
    "    m = 0 \n",
    "    c = 0 \n",
    "    n = float(len(y)) \n",
    "    iters = 1000 # take 1000 iteration \n",
    "    learning_rate = 0.01 \n",
    "    df = pd.DataFrame(columns = ['m','c','cost'])# make a dataframe to keep track how the costs are minimising in each iteration\n",
    "    for i in range(iters):\n",
    "        y_pred = m*X+c # prediction values \n",
    "        cost = sum([i**2 for i in (y-y_pred)])/n \n",
    "        d_m = (-2/n)*sum(X*(y-y_pred))#darivative w.r.t m\n",
    "        d_c = (-2/n)*sum(y-y_pred)#darivative w.r.t c \n",
    "        # we are doing the derivation for minimising the cost \n",
    "        # after darivation we have to update the m and c \n",
    "        m = m - (learning_rate*d_m) \n",
    "        c = c - (learning_rate*d_c) \n",
    "        df.loc[i] = [m,c,cost] # keep track of each cost in each iteration  \n",
    "    df.reset_index().plot.line(x='index', y=['cost']) \n",
    "    return f'final slope and intercept after 1000 iteration is {round(m,3),round(c,3)}'"
   ]
  },
  {
   "cell_type": "code",
   "execution_count": 13,
   "id": "f03e463b",
   "metadata": {},
   "outputs": [
    {
     "data": {
      "text/plain": [
       "'final slope and intercept after 1000 iteration is (0.536, 0.0)'"
      ]
     },
     "execution_count": 13,
     "metadata": {},
     "output_type": "execute_result"
    },
    {
     "data": {
      "image/png": "[encoded data removed]",
      "text/plain": [
       "<Figure size 432x288 with 1 Axes>"
      ]
     },
     "metadata": {
      "needs_background": "light"
     },
     "output_type": "display_data"
    }
   ],
   "source": [
    "gradient_discent_simple(X,y)"
   ]
  },
  {
   "cell_type": "markdown",
   "id": "cb1a0606",
   "metadata": {},
   "source": [
    " * We can clearly see that after 200 iterations the cost was not decreasing much which means we get our global minima. "
   ]
  },
  {
   "cell_type": "code",
   "execution_count": 14,
   "id": "df5b1b01",
   "metadata": {},
   "outputs": [
    {
     "data": {
      "image/png": "[encoded data removed]",
      "text/plain": [
       "<Figure size 432x288 with 1 Axes>"
      ]
     },
     "metadata": {
      "needs_background": "light"
     },
     "output_type": "display_data"
    }
   ],
   "source": [
    "# lets visualize how the line was fitted \n",
    "y_pred = 0.536*X+0.0\n",
    "plt.scatter(X,y)\n",
    "plt.plot(X,y_pred,color = 'red')\n",
    "plt.xlabel('area')\n",
    "plt.ylabel('price') \n",
    "plt.show()"
   ]
  },
  {
   "cell_type": "markdown",
   "id": "14a962d4",
   "metadata": {},
   "source": [
    "#### Note \n",
    "* learning rate is the speed at which we want to move towards negetive of the gradient . \n",
    "* it's always a good practice to choose a small value of learning rate and slowly move towards the nagative of the gradient . "
   ]
  },
  {
   "cell_type": "markdown",
   "id": "acb5da90",
   "metadata": {},
   "source": [
    "## Multiple Linear Regression \n",
    "#### Applying Gradient Descent for Multiple (>1) Features"
   ]
  },
  {
   "cell_type": "code",
   "execution_count": 15,
   "id": "8ef743cf",
   "metadata": {},
   "outputs": [],
   "source": [
    "# Assigning feature variable X \n",
    "# lets now take 2 features area and bedrooms \n",
    "X = housing[['area','bedrooms']]\n",
    "\n",
    "# Assigning response variable y\n",
    "y = housing['price']"
   ]
  },
  {
   "cell_type": "markdown",
   "id": "cd86f237",
   "metadata": {},
   "source": [
    "# Note \n",
    "* when we have more then one features the model now fit a hyperplane instade of line .  \n",
    "### $$ y = \\theta_0 + \\theta_1x_1 + \\theta_2x_2... + \\theta_nx_n $$ \n",
    "* The cost function here is slightly different from MSE we just dividing the MSE by half (1/2) to get a nice interpretation .\n",
    "### $$J(\\theta_0,\\theta_1) = \\frac{1}{2n} \\sum_{i=1}^{n} \\big( y^{(i)} - h_\\theta\\big( x^{(i)}\\big) \\big)^2 $$  \n",
    "### $$J(\\theta_0,\\theta_1,...,\\theta_i) = \\frac{1}{2n} \\sum_{i=1}^{n} \\big( y^{(i)} -  \\big( \\theta_0 + \\theta_1x_1 + \\theta_2x_2... + \\theta_ix_i \\big)\\big)^2 $$ \n",
    "### we have to first differentiate w.r.t. all thetas and then update each thetas . \n",
    "#### $$\\frac{\\partial J(\\theta_0,\\theta_1,...,\\theta_i)}{\\partial \\theta_0} = \\frac{1}{n} \\sum_{i=1}^n \\big( y^{(i)} - h_\\theta\\big( x^{(i)}\\big)\\big)\\big( x_0^{(i)}\\big) $$ \n",
    "#### $$\\frac{\\partial J(\\theta_0,\\theta_1,...,\\theta_i)}{\\partial \\theta_1} = \\frac{1}{n} \\sum_{i=1}^n \\big( y^{(i)} - h_\\theta\\big( x^{(i)}\\big)\\big)\\big( x_1^{(i)}\\big) $$ \n",
    "$$...$$\n",
    "#### $$\\frac{\\partial J(\\theta_0,\\theta_1,...,\\theta_i)}{\\partial \\theta_i} = \\frac{1}{n} \\sum_{i=1}^n \\big( y^{(i)} - h_\\theta\\big( x^{(i)}\\big)\\big)\\big( x_i^{(i)}\\big) $$\n",
    "* We need to minimise the cost function J(θ) One way to do this is to use the batch gradient decent algorithm. In batch gradient decent, the values are updated in each iteration: \n",
    "#### $$\\theta_0 = \\theta_0 -\\alpha \\frac{1}{n} \\sum_{i=1}^n \\big( y^{(i)} - h_\\theta\\big( x^{(i)}\\big)\\big)\\big( x_0^{(i)} \\big) $$ \n",
    "#### $$\\theta_1 = \\theta_1 -\\alpha \\frac{1}{n} \\sum_{i=1}^n \\big( y^{(i)} - h_\\theta\\big( x^{(i)}\\big)\\big)\\big( x_1^{(i)} \\big) $$ \n",
    "#### $$\\theta_2 = \\theta_2 -\\alpha \\frac{1}{n} \\sum_{i=1}^n \\big( y^{(i)} - h_\\theta\\big( x^{(i)}\\big)\\big)\\big( x_2^{(i)} \\big) $$ \n",
    "$$...$$\n",
    "#### $$\\theta_n = \\theta_n -\\alpha \\frac{1}{n} \\sum_{i=1}^n \\big( y^{(i)} - h_\\theta\\big( x^{(i)}\\big)\\big)\\big( x_n^{(i)} \\big) $$ \n",
    "* Now here we are taking the help of matrix multiplication because we are deal with more than one features . "
   ]
  },
  {
   "cell_type": "code",
   "execution_count": 16,
   "id": "ebb39746",
   "metadata": {},
   "outputs": [
    {
     "data": {
      "text/html": [
       "<div>\n",
       "<style scoped>\n",
       "    .dataframe tbody tr th:only-of-type {\n",
       "        vertical-align: middle;\n",
       "    }\n",
       "\n",
       "    .dataframe tbody tr th {\n",
       "        vertical-align: top;\n",
       "    }\n",
       "\n",
       "    .dataframe thead th {\n",
       "        text-align: right;\n",
       "    }\n",
       "</style>\n",
       "<table border=\"1\" class=\"dataframe\">\n",
       "  <thead>\n",
       "    <tr style=\"text-align: right;\">\n",
       "      <th></th>\n",
       "      <th>intercept</th>\n",
       "      <th>area</th>\n",
       "      <th>bedrooms</th>\n",
       "    </tr>\n",
       "  </thead>\n",
       "  <tbody>\n",
       "    <tr>\n",
       "      <th>0</th>\n",
       "      <td>1</td>\n",
       "      <td>1.045766</td>\n",
       "      <td>1.402131</td>\n",
       "    </tr>\n",
       "    <tr>\n",
       "      <th>1</th>\n",
       "      <td>1</td>\n",
       "      <td>1.755397</td>\n",
       "      <td>1.402131</td>\n",
       "    </tr>\n",
       "    <tr>\n",
       "      <th>2</th>\n",
       "      <td>1</td>\n",
       "      <td>2.216196</td>\n",
       "      <td>0.047235</td>\n",
       "    </tr>\n",
       "    <tr>\n",
       "      <th>3</th>\n",
       "      <td>1</td>\n",
       "      <td>1.082630</td>\n",
       "      <td>1.402131</td>\n",
       "    </tr>\n",
       "    <tr>\n",
       "      <th>4</th>\n",
       "      <td>1</td>\n",
       "      <td>1.045766</td>\n",
       "      <td>1.402131</td>\n",
       "    </tr>\n",
       "  </tbody>\n",
       "</table>\n",
       "</div>"
      ],
      "text/plain": [
       "   intercept      area  bedrooms\n",
       "0          1  1.045766  1.402131\n",
       "1          1  1.755397  1.402131\n",
       "2          1  2.216196  0.047235\n",
       "3          1  1.082630  1.402131\n",
       "4          1  1.045766  1.402131"
      ]
     },
     "execution_count": 16,
     "metadata": {},
     "output_type": "execute_result"
    }
   ],
   "source": [
    "# Add a columns of 1s as an intercept to X.\n",
    "# The intercept column is needed for convenient matrix representation of cost function\n",
    "\n",
    "X['intercept'] = 1\n",
    "X = X.reindex(['intercept','area','bedrooms'], axis=1)\n",
    "X.head()"
   ]
  },
  {
   "cell_type": "code",
   "execution_count": 17,
   "id": "d267d213",
   "metadata": {},
   "outputs": [],
   "source": [
    "# Convert X and y to arrays\n",
    "import numpy as np\n",
    "X = np.array(X)\n",
    "y = np.array(y)"
   ]
  },
  {
   "cell_type": "code",
   "execution_count": 18,
   "id": "3226cdd4",
   "metadata": {},
   "outputs": [],
   "source": [
    "# Theta is the vector representing coefficients (intercept, area, bedrooms)\n",
    "theta = np.matrix(np.array([0,0,0])) \n",
    "alpha = 0.01\n",
    "iterations = 1000"
   ]
  },
  {
   "cell_type": "code",
   "execution_count": 19,
   "id": "161c3002",
   "metadata": {},
   "outputs": [],
   "source": [
    "# define cost function\n",
    "# takes in theta (current values of coefficients ), X and y\n",
    "# returns total cost at current θ1 , θ2 ,θ3\n",
    "\n",
    "def compute_cost(X, y, theta):\n",
    "    return np.sum(np.square(np.matmul(X, theta) - y)) / (2 * len(y))"
   ]
  },
  {
   "cell_type": "code",
   "execution_count": 20,
   "id": "a34db305",
   "metadata": {},
   "outputs": [],
   "source": [
    "# gradient descent\n",
    "# takes in current X, y, learning rate alpha, num_iters\n",
    "# returns cost (notice it uses the cost function defined above)\n",
    "\n",
    "def gradient_descent_multi(X, y, theta, alpha, iterations):\n",
    "    theta = np.zeros(X.shape[1])\n",
    "    n = len(X)\n",
    "    df = pd.DataFrame( columns = ['coefficients','cost'])\n",
    "\n",
    "    for i in range(iterations):\n",
    "        cost = compute_cost(X, y, theta)\n",
    "        derivative  = (1/n) * np.matmul(X.T, np.matmul(X, theta) - y) # we are doing derivative for minimizing the cost \n",
    "        theta = theta - alpha * derivative # here we have to update our theta means we are going to next step \n",
    "        df.loc[i] = [theta,cost]\n",
    "    df.reset_index().plot.line(x='index', y=['cost']) \n",
    "    return df.tail() , f'final coefficients are {df.iloc[999,0]} '"
   ]
  },
  {
   "cell_type": "code",
   "execution_count": 21,
   "id": "7a433b7f",
   "metadata": {},
   "outputs": [
    {
     "data": {
      "text/plain": [
       "(                                          coefficients      cost\n",
       " 995  [3.3328691488600403e-16, 0.4916558741575689, 0...  0.314176\n",
       " 996  [3.3359248085608434e-16, 0.49165609672441263, ...  0.314176\n",
       " 997  [3.337635977993293e-16, 0.4916563172711537, 0....  0.314176\n",
       " 998  [3.3429324548080186e-16, 0.4916565358164564, 0...  0.314176\n",
       " 999  [3.3447658506285006e-16, 0.49165675237880896, ...  0.314176,\n",
       " 'final coefficients are [3.34476585e-16 4.91656752e-01 2.91844700e-01] ')"
      ]
     },
     "execution_count": 21,
     "metadata": {},
     "output_type": "execute_result"
    },
    {
     "data": {
      "image/png": "[encoded data removed]",
      "text/plain": [
       "<Figure size 432x288 with 1 Axes>"
      ]
     },
     "metadata": {
      "needs_background": "light"
     },
     "output_type": "display_data"
    }
   ],
   "source": [
    "# print costs with various values of coefficients b0, b1, b2\n",
    "gradient_descent_multi(X, y, theta, alpha, iterations)"
   ]
  },
  {
   "cell_type": "markdown",
   "id": "7d8a0bc8",
   "metadata": {},
   "source": [
    " * We can clearly see that after 200 iterations the cost was not decreasing much which means we get our global minima. \n",
    " \n",
    " \n",
    " \n",
    " "
   ]
  },
  {
   "cell_type": "markdown",
   "id": "ba556ff3",
   "metadata": {},
   "source": [
    "# EXAMPLE 2"
   ]
  },
  {
   "cell_type": "code",
   "execution_count": 22,
   "id": "60509b0d",
   "metadata": {},
   "outputs": [
    {
     "data": {
      "text/html": [
       "<div>\n",
       "<style scoped>\n",
       "    .dataframe tbody tr th:only-of-type {\n",
       "        vertical-align: middle;\n",
       "    }\n",
       "\n",
       "    .dataframe tbody tr th {\n",
       "        vertical-align: top;\n",
       "    }\n",
       "\n",
       "    .dataframe thead th {\n",
       "        text-align: right;\n",
       "    }\n",
       "</style>\n",
       "<table border=\"1\" class=\"dataframe\">\n",
       "  <thead>\n",
       "    <tr style=\"text-align: right;\">\n",
       "      <th></th>\n",
       "      <th>TV</th>\n",
       "      <th>Radio</th>\n",
       "      <th>Newspaper</th>\n",
       "      <th>Sales</th>\n",
       "    </tr>\n",
       "  </thead>\n",
       "  <tbody>\n",
       "    <tr>\n",
       "      <th>0</th>\n",
       "      <td>230.1</td>\n",
       "      <td>37.8</td>\n",
       "      <td>69.2</td>\n",
       "      <td>22.1</td>\n",
       "    </tr>\n",
       "    <tr>\n",
       "      <th>1</th>\n",
       "      <td>44.5</td>\n",
       "      <td>39.3</td>\n",
       "      <td>45.1</td>\n",
       "      <td>10.4</td>\n",
       "    </tr>\n",
       "    <tr>\n",
       "      <th>2</th>\n",
       "      <td>17.2</td>\n",
       "      <td>45.9</td>\n",
       "      <td>69.3</td>\n",
       "      <td>9.3</td>\n",
       "    </tr>\n",
       "    <tr>\n",
       "      <th>3</th>\n",
       "      <td>151.5</td>\n",
       "      <td>41.3</td>\n",
       "      <td>58.5</td>\n",
       "      <td>18.5</td>\n",
       "    </tr>\n",
       "    <tr>\n",
       "      <th>4</th>\n",
       "      <td>180.8</td>\n",
       "      <td>10.8</td>\n",
       "      <td>58.4</td>\n",
       "      <td>12.9</td>\n",
       "    </tr>\n",
       "  </tbody>\n",
       "</table>\n",
       "</div>"
      ],
      "text/plain": [
       "      TV  Radio  Newspaper  Sales\n",
       "0  230.1   37.8       69.2   22.1\n",
       "1   44.5   39.3       45.1   10.4\n",
       "2   17.2   45.9       69.3    9.3\n",
       "3  151.5   41.3       58.5   18.5\n",
       "4  180.8   10.8       58.4   12.9"
      ]
     },
     "execution_count": 22,
     "metadata": {},
     "output_type": "execute_result"
    }
   ],
   "source": [
    "# lets take a dataset called advartising.csv \n",
    "advartising = pd.read_csv(r'E:\\\\advertising (1).csv')\n",
    "advartising.head()"
   ]
  },
  {
   "cell_type": "code",
   "execution_count": 23,
   "id": "d5932e1a",
   "metadata": {},
   "outputs": [
    {
     "data": {
      "text/html": [
       "<div>\n",
       "<style scoped>\n",
       "    .dataframe tbody tr th:only-of-type {\n",
       "        vertical-align: middle;\n",
       "    }\n",
       "\n",
       "    .dataframe tbody tr th {\n",
       "        vertical-align: top;\n",
       "    }\n",
       "\n",
       "    .dataframe thead th {\n",
       "        text-align: right;\n",
       "    }\n",
       "</style>\n",
       "<table border=\"1\" class=\"dataframe\">\n",
       "  <thead>\n",
       "    <tr style=\"text-align: right;\">\n",
       "      <th></th>\n",
       "      <th>TV</th>\n",
       "      <th>Radio</th>\n",
       "      <th>Newspaper</th>\n",
       "      <th>Sales</th>\n",
       "    </tr>\n",
       "  </thead>\n",
       "  <tbody>\n",
       "    <tr>\n",
       "      <th>0</th>\n",
       "      <td>0.967425</td>\n",
       "      <td>0.979066</td>\n",
       "      <td>1.774493</td>\n",
       "      <td>1.548168</td>\n",
       "    </tr>\n",
       "    <tr>\n",
       "      <th>1</th>\n",
       "      <td>-1.194379</td>\n",
       "      <td>1.080097</td>\n",
       "      <td>0.667903</td>\n",
       "      <td>-0.694304</td>\n",
       "    </tr>\n",
       "    <tr>\n",
       "      <th>2</th>\n",
       "      <td>-1.512360</td>\n",
       "      <td>1.524637</td>\n",
       "      <td>1.779084</td>\n",
       "      <td>-0.905135</td>\n",
       "    </tr>\n",
       "    <tr>\n",
       "      <th>3</th>\n",
       "      <td>0.051919</td>\n",
       "      <td>1.214806</td>\n",
       "      <td>1.283185</td>\n",
       "      <td>0.858177</td>\n",
       "    </tr>\n",
       "    <tr>\n",
       "      <th>4</th>\n",
       "      <td>0.393196</td>\n",
       "      <td>-0.839507</td>\n",
       "      <td>1.278593</td>\n",
       "      <td>-0.215143</td>\n",
       "    </tr>\n",
       "  </tbody>\n",
       "</table>\n",
       "</div>"
      ],
      "text/plain": [
       "         TV     Radio  Newspaper     Sales\n",
       "0  0.967425  0.979066   1.774493  1.548168\n",
       "1 -1.194379  1.080097   0.667903 -0.694304\n",
       "2 -1.512360  1.524637   1.779084 -0.905135\n",
       "3  0.051919  1.214806   1.283185  0.858177\n",
       "4  0.393196 -0.839507   1.278593 -0.215143"
      ]
     },
     "execution_count": 23,
     "metadata": {},
     "output_type": "execute_result"
    }
   ],
   "source": [
    "# Normalisisng the data\n",
    "advartising = (advartising - advartising.mean())/advartising.std()\n",
    "advartising.head()"
   ]
  },
  {
   "cell_type": "code",
   "execution_count": 24,
   "id": "5490a3ef",
   "metadata": {},
   "outputs": [
    {
     "data": {
      "text/plain": [
       "<matplotlib.collections.PathCollection at 0x2715a6628e0>"
      ]
     },
     "execution_count": 24,
     "metadata": {},
     "output_type": "execute_result"
    },
    {
     "data": {
      "image/png": "[encoded data removed]",
      "text/plain": [
       "<Figure size 432x288 with 1 Axes>"
      ]
     },
     "metadata": {
      "needs_background": "light"
     },
     "output_type": "display_data"
    }
   ],
   "source": [
    "# Assigning feature variable X \n",
    "# lets see how attribute 'TV' affects 'Sales' \n",
    "X = advartising['TV']\n",
    "\n",
    "# Assigning response variable y\n",
    "y = advartising['Sales'] \n",
    "\n",
    "plt.scatter(X,y)"
   ]
  },
  {
   "cell_type": "code",
   "execution_count": 25,
   "id": "a879f8e4",
   "metadata": {},
   "outputs": [
    {
     "data": {
      "text/plain": [
       "'final slope and intercept after 1000 iteration is (0.782, -0.0)'"
      ]
     },
     "execution_count": 25,
     "metadata": {},
     "output_type": "execute_result"
    },
    {
     "data": {
      "image/png": "[encoded data removed]",
      "text/plain": [
       "<Figure size 432x288 with 1 Axes>"
      ]
     },
     "metadata": {
      "needs_background": "light"
     },
     "output_type": "display_data"
    }
   ],
   "source": [
    "# first convert X,y to numpy array \n",
    "X = np.array(X)\n",
    "y = np.array(y) \n",
    "# call the function \n",
    "gradient_discent_simple(X,y)"
   ]
  },
  {
   "cell_type": "code",
   "execution_count": 26,
   "id": "2a76ba24",
   "metadata": {},
   "outputs": [
    {
     "data": {
      "image/png": "[encoded data removed]",
      "text/plain": [
       "<Figure size 432x288 with 1 Axes>"
      ]
     },
     "metadata": {
      "needs_background": "light"
     },
     "output_type": "display_data"
    }
   ],
   "source": [
    "# lets visualize how the line was fitted \n",
    "y_pred = 0.782*X-0.0\n",
    "plt.scatter(X,y)\n",
    "plt.plot(X,y_pred,color = 'red')\n",
    "plt.xlabel('area')\n",
    "plt.ylabel('price') \n",
    "plt.show()"
   ]
  },
  {
   "cell_type": "code",
   "execution_count": 27,
   "id": "039c3888",
   "metadata": {},
   "outputs": [],
   "source": [
    "# Assigning feature variable X \n",
    "# lets now take all features \n",
    "X = advartising[['TV','Radio','Newspaper']]\n",
    "\n",
    "# Assigning response variable y\n",
    "y = advartising['Sales']"
   ]
  },
  {
   "cell_type": "code",
   "execution_count": 28,
   "id": "0e793466",
   "metadata": {},
   "outputs": [
    {
     "data": {
      "text/html": [
       "<div>\n",
       "<style scoped>\n",
       "    .dataframe tbody tr th:only-of-type {\n",
       "        vertical-align: middle;\n",
       "    }\n",
       "\n",
       "    .dataframe tbody tr th {\n",
       "        vertical-align: top;\n",
       "    }\n",
       "\n",
       "    .dataframe thead th {\n",
       "        text-align: right;\n",
       "    }\n",
       "</style>\n",
       "<table border=\"1\" class=\"dataframe\">\n",
       "  <thead>\n",
       "    <tr style=\"text-align: right;\">\n",
       "      <th></th>\n",
       "      <th>TV</th>\n",
       "      <th>Radio</th>\n",
       "      <th>Newspaper</th>\n",
       "    </tr>\n",
       "  </thead>\n",
       "  <tbody>\n",
       "    <tr>\n",
       "      <th>0</th>\n",
       "      <td>0.967425</td>\n",
       "      <td>0.979066</td>\n",
       "      <td>1.774493</td>\n",
       "    </tr>\n",
       "    <tr>\n",
       "      <th>1</th>\n",
       "      <td>-1.194379</td>\n",
       "      <td>1.080097</td>\n",
       "      <td>0.667903</td>\n",
       "    </tr>\n",
       "    <tr>\n",
       "      <th>2</th>\n",
       "      <td>-1.512360</td>\n",
       "      <td>1.524637</td>\n",
       "      <td>1.779084</td>\n",
       "    </tr>\n",
       "    <tr>\n",
       "      <th>3</th>\n",
       "      <td>0.051919</td>\n",
       "      <td>1.214806</td>\n",
       "      <td>1.283185</td>\n",
       "    </tr>\n",
       "    <tr>\n",
       "      <th>4</th>\n",
       "      <td>0.393196</td>\n",
       "      <td>-0.839507</td>\n",
       "      <td>1.278593</td>\n",
       "    </tr>\n",
       "  </tbody>\n",
       "</table>\n",
       "</div>"
      ],
      "text/plain": [
       "         TV     Radio  Newspaper\n",
       "0  0.967425  0.979066   1.774493\n",
       "1 -1.194379  1.080097   0.667903\n",
       "2 -1.512360  1.524637   1.779084\n",
       "3  0.051919  1.214806   1.283185\n",
       "4  0.393196 -0.839507   1.278593"
      ]
     },
     "execution_count": 28,
     "metadata": {},
     "output_type": "execute_result"
    }
   ],
   "source": [
    "# Add a columns of 1s as an intercept to X.\n",
    "# The intercept column is needed for convenient matrix representation of cost function\n",
    "\n",
    "X['intercept'] = 1\n",
    "X = X.reindex(['TV','Radio','Newspaper'], axis=1)\n",
    "X.head()"
   ]
  },
  {
   "cell_type": "code",
   "execution_count": 29,
   "id": "d5decce4",
   "metadata": {},
   "outputs": [],
   "source": [
    "# Convert X and y to arrays\n",
    "import numpy as np\n",
    "X = np.array(X)\n",
    "y = np.array(y)"
   ]
  },
  {
   "cell_type": "code",
   "execution_count": 30,
   "id": "235d2310",
   "metadata": {},
   "outputs": [],
   "source": [
    "# Theta is the vector representing coefficients (intercept, area, bedrooms)\n",
    "theta = np.matrix(np.array([0,0,0,0])) \n",
    "alpha = 0.01\n",
    "iterations = 1000"
   ]
  },
  {
   "cell_type": "code",
   "execution_count": 31,
   "id": "f3579b86",
   "metadata": {},
   "outputs": [
    {
     "data": {
      "text/plain": [
       "(                                          coefficients      cost\n",
       " 995  [0.7530275184009089, 0.5360440327094922, -0.00...  0.051138\n",
       " 996  [0.7530278865846947, 0.5360468290216982, -0.00...  0.051138\n",
       " 997  [0.7530282512106896, 0.5360496075026058, -0.00...  0.051138\n",
       " 998  [0.7530286123134639, 0.5360523682656025, -0.00...  0.051138\n",
       " 999  [0.75302896992725, 0.5360551114233569, -0.0038...  0.051138,\n",
       " 'final coefficients are [ 0.75302897  0.53605511 -0.0038943 ] ')"
      ]
     },
     "execution_count": 31,
     "metadata": {},
     "output_type": "execute_result"
    },
    {
     "data": {
      "image/png": "[encoded data removed]",
      "text/plain": [
       "<Figure size 432x288 with 1 Axes>"
      ]
     },
     "metadata": {
      "needs_background": "light"
     },
     "output_type": "display_data"
    }
   ],
   "source": [
    "# call the function\n",
    "gradient_descent_multi(X, y, theta, alpha, iterations)"
   ]
  },
  {
   "cell_type": "code",
   "execution_count": 32,
   "id": "23e26e7a",
   "metadata": {},
   "outputs": [
    {
     "name": "stdout",
     "output_type": "stream",
     "text": [
      "@@@@@@@@@@@@@@@@@@@@@@@@@@@@@@@@@@@@@@@@@@@@@@@@@@THE END@@@@@@@@@@@@@@@@@@@@@@@@@@@@@@@@@@@@@@@@@@@@@@@@@@\n"
     ]
    }
   ],
   "source": [
    "print('@'*50+'THE END'+'@'*50)"
   ]
  },
  {
   "cell_type": "code",
   "execution_count": null,
   "id": "4d5c64d7",
   "metadata": {},
   "outputs": [],
   "source": []
  }
 ],
 "metadata": {
  "kernelspec": {
   "display_name": "Python 3 (ipykernel)",
   "language": "python",
   "name": "python3"
  },
  "language_info": {
   "codemirror_mode": {
    "name": "ipython",
    "version": 3
   },
   "file_extension": ".py",
   "mimetype": "text/x-python",
   "name": "python",
   "nbconvert_exporter": "python",
   "pygments_lexer": "ipython3",
   "version": "3.9.7"
  }
 },
 "nbformat": 4,
 "nbformat_minor": 5
}
